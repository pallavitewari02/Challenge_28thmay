{
 "cells": [
  {
   "cell_type": "code",
   "execution_count": 1,
   "id": "2bb263e5",
   "metadata": {},
   "outputs": [],
   "source": [
    "l=[[1,2,3,4],(2,3,4,5,6),(3,4,5,6,7),set([23,4,5,45,4,4,5,45,45,4,5]),{'k1':\"sudh\",'k2':\"ineuron\",'k3':\"kumar\",2:6,7:8},[\"ineuron\",\"data science\"]]"
   ]
  },
  {
   "cell_type": "code",
   "execution_count": 2,
   "id": "f5bc5362",
   "metadata": {},
   "outputs": [
    {
     "data": {
      "text/plain": [
       "[[1, 2, 3, 4],\n",
       " (2, 3, 4, 5, 6),\n",
       " (3, 4, 5, 6, 7),\n",
       " {4, 5, 23, 45},\n",
       " {'k1': 'sudh', 'k2': 'ineuron', 'k3': 'kumar', 2: 6, 7: 8},\n",
       " ['ineuron', 'data science']]"
      ]
     },
     "execution_count": 2,
     "metadata": {},
     "output_type": "execute_result"
    }
   ],
   "source": [
    "l"
   ]
  },
  {
   "cell_type": "code",
   "execution_count": null,
   "id": "03b28731",
   "metadata": {},
   "outputs": [],
   "source": [
    "q3.Try to extract all the list entity"
   ]
  },
  {
   "cell_type": "code",
   "execution_count": 3,
   "id": "b9ed85d6",
   "metadata": {},
   "outputs": [
    {
     "name": "stdout",
     "output_type": "stream",
     "text": [
      "[1, 2, 3, 4]\n",
      "['ineuron', 'data science']\n"
     ]
    }
   ],
   "source": [
    "for i in l:\n",
    "    if type(i)==list:\n",
    "        print(i)"
   ]
  },
  {
   "cell_type": "code",
   "execution_count": null,
   "id": "4cb91686",
   "metadata": {},
   "outputs": [],
   "source": [
    "q4.Try to extract all the dict entity"
   ]
  },
  {
   "cell_type": "code",
   "execution_count": 4,
   "id": "69684373",
   "metadata": {},
   "outputs": [
    {
     "name": "stdout",
     "output_type": "stream",
     "text": [
      "{'k1': 'sudh', 'k2': 'ineuron', 'k3': 'kumar', 2: 6, 7: 8}\n"
     ]
    }
   ],
   "source": [
    "for i in l:\n",
    "    if type(i)==dict:\n",
    "        print(i)"
   ]
  },
  {
   "cell_type": "code",
   "execution_count": null,
   "id": "307dfa83",
   "metadata": {},
   "outputs": [],
   "source": [
    "q5.Try to extract all the tuple entity"
   ]
  },
  {
   "cell_type": "code",
   "execution_count": 5,
   "id": "01b031c0",
   "metadata": {},
   "outputs": [
    {
     "name": "stdout",
     "output_type": "stream",
     "text": [
      "(2, 3, 4, 5, 6)\n",
      "(3, 4, 5, 6, 7)\n"
     ]
    }
   ],
   "source": [
    "for i in l:\n",
    "    if type(i)==tuple:\n",
    "        print(i)"
   ]
  },
  {
   "cell_type": "code",
   "execution_count": null,
   "id": "802c573f",
   "metadata": {},
   "outputs": [],
   "source": [
    "q6.try to extract all the numerical data, it may part of dict key and values"
   ]
  },
  {
   "cell_type": "code",
   "execution_count": 11,
   "id": "b2e8c87f",
   "metadata": {},
   "outputs": [
    {
     "name": "stdout",
     "output_type": "stream",
     "text": [
      "1\n",
      "2\n",
      "3\n",
      "4\n",
      "2\n",
      "3\n",
      "4\n",
      "5\n",
      "6\n",
      "3\n",
      "4\n",
      "5\n",
      "6\n",
      "7\n",
      "45\n",
      "4\n",
      "5\n",
      "23\n",
      "2\n",
      "6\n",
      "7\n",
      "8\n",
      "[1, 2, 3, 4, 2, 3, 4, 5, 6, 3, 4, 5, 6, 7, 45, 4, 5, 23, 2, 6, 7, 8]\n"
     ]
    }
   ],
   "source": [
    "l1=[]\n",
    "l2=[]\n",
    "for b in l:\n",
    "    if type(b)==list or type(b)==tuple or type(b)==set:\n",
    "        for j in b:\n",
    "            if type(j)==int:\n",
    "                print(j)\n",
    "                l1.append(j)\n",
    "                \n",
    "    if type(b)==dict:\n",
    "        for k,m in b.items():\n",
    "            if type(k)==int and type(m)==int:\n",
    "                print(k)\n",
    "                print(m)\n",
    "                l2.append(k)\n",
    "                l2.append(m)\n",
    "l3=l1+l2\n",
    "print(l3)\n",
    "                "
   ]
  },
  {
   "cell_type": "code",
   "execution_count": null,
   "id": "c97f98f2",
   "metadata": {},
   "outputs": [],
   "source": [
    "q7.Tryto give summation of all numeric data"
   ]
  },
  {
   "cell_type": "code",
   "execution_count": 19,
   "id": "c3a00dda",
   "metadata": {},
   "outputs": [
    {
     "name": "stdout",
     "output_type": "stream",
     "text": [
      "[1, 2, 3, 4, 2, 3, 4, 5, 6, 3, 4, 5, 6, 7, 45, 4, 5, 23, 2, 6, 7, 8]\n",
      "155\n"
     ]
    }
   ],
   "source": [
    "l1=[]\n",
    "l2=[]\n",
    "for b in l:\n",
    "    if type(b)==list or type(b)==tuple or type(b)==set:\n",
    "        for j in b:\n",
    "            if type(j)==int:\n",
    "                l1.append(j)\n",
    "                \n",
    "    if type(b)==dict:\n",
    "        for k,m in b.items():\n",
    "            if type(k)==int and type(m)==int:\n",
    "                l2.append(k)\n",
    "                l2.append(m)\n",
    "l3=l1+l2\n",
    "print(l3) \n",
    "print(sum(l3))"
   ]
  },
  {
   "cell_type": "code",
   "execution_count": null,
   "id": "cc1e7b4a",
   "metadata": {},
   "outputs": [],
   "source": [
    "q8. Try to filter out all the odd values out of all the numeric dats which is part of the list"
   ]
  },
  {
   "cell_type": "code",
   "execution_count": 21,
   "id": "5c28a81e",
   "metadata": {},
   "outputs": [
    {
     "name": "stdout",
     "output_type": "stream",
     "text": [
      "[1, 2, 3, 4, 2, 3, 4, 5, 6, 3, 4, 5, 6, 7, 45, 4, 5, 23, 2, 6, 7, 8]\n",
      "1\n",
      "3\n",
      "3\n",
      "5\n",
      "3\n",
      "5\n",
      "7\n",
      "45\n",
      "5\n",
      "23\n",
      "7\n"
     ]
    }
   ],
   "source": [
    "l1=[]\n",
    "l2=[]\n",
    "for b in l:\n",
    "    if type(b)==list or type(b)==tuple or type(b)==set:\n",
    "        for j in b:\n",
    "            if type(j)==int:\n",
    "                l1.append(j)\n",
    "                \n",
    "    if type(b)==dict:\n",
    "        for k,m in b.items():\n",
    "            if type(k)==int and type(m)==int:\n",
    "                l2.append(k)\n",
    "                l2.append(m)\n",
    "l3=l1+l2\n",
    "print(l3)\n",
    "for x in l3:\n",
    "    if x%2!=0:\n",
    "        print(x)"
   ]
  },
  {
   "cell_type": "code",
   "execution_count": null,
   "id": "41019f2c",
   "metadata": {},
   "outputs": [],
   "source": [
    "q9.Try to extract \"ineuron\" out of this data"
   ]
  },
  {
   "cell_type": "code",
   "execution_count": 32,
   "id": "9934853d",
   "metadata": {},
   "outputs": [
    {
     "name": "stdout",
     "output_type": "stream",
     "text": [
      "ineuron\n"
     ]
    }
   ],
   "source": [
    "for i in l:\n",
    "    if type(i)==dict:\n",
    "        for j in i:\n",
    "            if(i[j])==\"ineuron\":\n",
    "                print(i[j])\n",
    "                 \n",
    "        \n",
    "         \n",
    "    "
   ]
  },
  {
   "cell_type": "code",
   "execution_count": null,
   "id": "6e92005a",
   "metadata": {},
   "outputs": [],
   "source": [
    "q10.Try to find out the number of occurences of all the data"
   ]
  },
  {
   "cell_type": "code",
   "execution_count": 81,
   "id": "2e11f7ef",
   "metadata": {},
   "outputs": [
    {
     "name": "stdout",
     "output_type": "stream",
     "text": [
      "[1, 2, 3, 4, 2, 3, 4, 5, 6, 3, 4, 5, 6, 7, 45, 4, 5, 23, 'ineuron', 'data science', 'k1', 'sudh', 'k2', 'ineuron', 'k3', 'kumar', 2, 6, 7, 8]\n",
      "1 : 1\n",
      "2 : 3\n",
      "3 : 3\n",
      "4 : 4\n",
      "5 : 3\n",
      "6 : 3\n",
      "7 : 2\n",
      "k1 : 1\n",
      "sudh : 1\n",
      "kumar : 1\n",
      "8 : 1\n",
      "ineuron : 2\n",
      "45 : 1\n",
      "k3 : 1\n",
      "23 : 1\n",
      "k2 : 1\n",
      "data science : 1\n"
     ]
    }
   ],
   "source": [
    "a1=[]\n",
    "a2=[]\n",
    "for i in l:\n",
    "    if type(i)==list or type(i)==tuple or type(i)==set:\n",
    "         for j in i:\n",
    "                (a1.append(j))\n",
    "    if type(i)==dict:\n",
    "        for m,n in i.items():\n",
    "            a2.append(m)\n",
    "            a2.append(n)\n",
    "    \n",
    "a3=a1+a2\n",
    "print(a3)\n",
    "set(a3)\n",
    "for k in set(a3):\n",
    "    print(k,\":\",a3.count(k))\n",
    "\n",
    "       \n",
    "       \n",
    "    \n",
    "    "
   ]
  },
  {
   "cell_type": "code",
   "execution_count": null,
   "id": "310091c8",
   "metadata": {},
   "outputs": [],
   "source": [
    "q11.Try to find out number of keys in dict element"
   ]
  },
  {
   "cell_type": "code",
   "execution_count": 46,
   "id": "827c647b",
   "metadata": {},
   "outputs": [
    {
     "name": "stdout",
     "output_type": "stream",
     "text": [
      "5\n"
     ]
    }
   ],
   "source": [
    "for i in l:\n",
    "    if type(i)==dict:\n",
    "        print(len(i))"
   ]
  },
  {
   "cell_type": "code",
   "execution_count": null,
   "id": "ab4cb74d",
   "metadata": {},
   "outputs": [],
   "source": [
    "q12.Try to filter out all the string data"
   ]
  },
  {
   "cell_type": "code",
   "execution_count": 57,
   "id": "eb33e989",
   "metadata": {},
   "outputs": [
    {
     "ename": "IndexError",
     "evalue": "list index out of range",
     "output_type": "error",
     "traceback": [
      "\u001b[1;31m---------------------------------------------------------------------------\u001b[0m",
      "\u001b[1;31mIndexError\u001b[0m                                Traceback (most recent call last)",
      "Input \u001b[1;32mIn [57]\u001b[0m, in \u001b[0;36m<cell line: 1>\u001b[1;34m()\u001b[0m\n\u001b[0;32m      1\u001b[0m \u001b[38;5;28;01mfor\u001b[39;00m i \u001b[38;5;129;01min\u001b[39;00m l:\n\u001b[0;32m      2\u001b[0m     \u001b[38;5;28;01mfor\u001b[39;00m j \u001b[38;5;129;01min\u001b[39;00m i:\n\u001b[1;32m----> 3\u001b[0m         \u001b[38;5;28;01mif\u001b[39;00m \u001b[38;5;28mtype\u001b[39m(j)\u001b[38;5;241m==\u001b[39m\u001b[38;5;28mstr\u001b[39m \u001b[38;5;129;01mor\u001b[39;00m \u001b[38;5;28mtype\u001b[39m(\u001b[43mi\u001b[49m\u001b[43m[\u001b[49m\u001b[43mj\u001b[49m\u001b[43m]\u001b[49m)\u001b[38;5;241m==\u001b[39m\u001b[38;5;28mstr\u001b[39m:\n\u001b[0;32m      4\u001b[0m                                  \u001b[38;5;28mprint\u001b[39m(j)\n\u001b[0;32m      5\u001b[0m                                  \u001b[38;5;28mprint\u001b[39m(i[j])\n",
      "\u001b[1;31mIndexError\u001b[0m: list index out of range"
     ]
    }
   ],
   "source": [
    "for i in l:\n",
    "    for j in i:\n",
    "        if type(j)==str or type(i.it)==str:\n",
    "                                 print(j)\n",
    "                                 print(i[j])\n",
    "           \n",
    "                                 \n",
    "            "
   ]
  },
  {
   "cell_type": "code",
   "execution_count": null,
   "id": "ddec4375",
   "metadata": {},
   "outputs": [],
   "source": [
    "q13.Try to find alphanum in data"
   ]
  },
  {
   "cell_type": "code",
   "execution_count": 63,
   "id": "04adea14",
   "metadata": {},
   "outputs": [
    {
     "ename": "NameError",
     "evalue": "name 'isalnum' is not defined",
     "output_type": "error",
     "traceback": [
      "\u001b[1;31m---------------------------------------------------------------------------\u001b[0m",
      "\u001b[1;31mNameError\u001b[0m                                 Traceback (most recent call last)",
      "Input \u001b[1;32mIn [63]\u001b[0m, in \u001b[0;36m<cell line: 1>\u001b[1;34m()\u001b[0m\n\u001b[0;32m      1\u001b[0m \u001b[38;5;28;01mfor\u001b[39;00m i \u001b[38;5;129;01min\u001b[39;00m l:\n\u001b[0;32m      2\u001b[0m     \u001b[38;5;28;01mfor\u001b[39;00m j \u001b[38;5;129;01min\u001b[39;00m i:\n\u001b[1;32m----> 3\u001b[0m         \u001b[38;5;28;01mif\u001b[39;00m j\u001b[38;5;241m==\u001b[39m\u001b[43misalnum\u001b[49m():\n\u001b[0;32m      4\u001b[0m             \u001b[38;5;28mprint\u001b[39m(j)\n",
      "\u001b[1;31mNameError\u001b[0m: name 'isalnum' is not defined"
     ]
    }
   ],
   "source": [
    "for i in l:\n",
    "    for j in i:\n",
    "        if j==isalnum():\n",
    "            print(j)"
   ]
  },
  {
   "cell_type": "code",
   "execution_count": null,
   "id": "e3c84e57",
   "metadata": {},
   "outputs": [],
   "source": [
    "q14.Try to find out multiplicaton of all the numeric vlue in th individual collection inside dataset"
   ]
  },
  {
   "cell_type": "code",
   "execution_count": 75,
   "id": "bc616a6e",
   "metadata": {},
   "outputs": [
    {
     "name": "stdout",
     "output_type": "stream",
     "text": [
      "None\n"
     ]
    }
   ],
   "source": [
    " product=1\n",
    "for i in l:\n",
    "    for j in i:\n",
    "        if type(j)==int:\n",
    "            new=product*j\n",
    "a2=[]\n",
    "print(a2.append(new))"
   ]
  },
  {
   "cell_type": "code",
   "execution_count": null,
   "id": "4f233c4d",
   "metadata": {},
   "outputs": [],
   "source": [
    "q15.Try to unwrap all the collection inside te collection to create a flat list"
   ]
  },
  {
   "cell_type": "code",
   "execution_count": 82,
   "id": "43d6c541",
   "metadata": {},
   "outputs": [
    {
     "name": "stdout",
     "output_type": "stream",
     "text": [
      "[1, 2, 3, 4, 2, 3, 4, 5, 6, 3, 4, 5, 6, 7, 45, 4, 5, 23, 'ineuron', 'data science', 'k1', 'sudh', 'k2', 'ineuron', 'k3', 'kumar', 2, 6, 7, 8]\n"
     ]
    }
   ],
   "source": [
    "a1=[]\n",
    "a2=[]\n",
    "for i in l:\n",
    "    if type(i)==list or type(i)==tuple or type(i)==set:\n",
    "         for j in i:\n",
    "                (a1.append(j))\n",
    "    if type(i)==dict:\n",
    "        for m,n in i.items():\n",
    "            a2.append(m)\n",
    "            a2.append(n)\n",
    "    \n",
    "a3=a1+a2\n",
    "print(a3)"
   ]
  },
  {
   "cell_type": "code",
   "execution_count": null,
   "id": "6447ac12",
   "metadata": {},
   "outputs": [],
   "source": []
  }
 ],
 "metadata": {
  "kernelspec": {
   "display_name": "Python 3 (ipykernel)",
   "language": "python",
   "name": "python3"
  },
  "language_info": {
   "codemirror_mode": {
    "name": "ipython",
    "version": 3
   },
   "file_extension": ".py",
   "mimetype": "text/x-python",
   "name": "python",
   "nbconvert_exporter": "python",
   "pygments_lexer": "ipython3",
   "version": "3.9.12"
  }
 },
 "nbformat": 4,
 "nbformat_minor": 5
}
